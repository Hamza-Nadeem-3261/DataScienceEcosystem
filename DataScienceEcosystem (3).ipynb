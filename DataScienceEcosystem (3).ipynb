{
 "cells": [
  {
   "cell_type": "markdown",
   "id": "196e3410-b3e7-42ed-9568-60e14eb31c22",
   "metadata": {},
   "source": [
    "# Data Science Tools and Ecosystem"
   ]
  },
  {
   "cell_type": "markdown",
   "id": "1eaa1309-ca4a-4c12-a7d4-9abe5fb0acd0",
   "metadata": {
    "tags": []
   },
   "source": [
    "In this notebook, Data Science Tools and Ecosystem are summarized."
   ]
  },
  {
   "cell_type": "markdown",
   "id": "b0128bbe-4098-4534-9c4b-be5403423757",
   "metadata": {},
   "source": [
    "**Objectives:**\n",
    "+ Understanding Data Science Languages\n",
    "+ Understanding Data Science Libraries\n",
    "+ Understanding Data Science Tools"
   ]
  },
  {
   "cell_type": "markdown",
   "id": "9937a73b-139e-4b03-ab5e-10917c91a0df",
   "metadata": {},
   "source": [
    "Some of the popular languages that Data Scientists use are: \n",
    "1. Python\n",
    "2. R\n",
    "3. Scala\n",
    "4. Julia\n"
   ]
  },
  {
   "cell_type": "markdown",
   "id": "0053495d-950b-43f3-880f-a7365daf47d6",
   "metadata": {},
   "source": [
    "Some of the commonly used libraries used by Data Scientists include:\n",
    "1. Matplotlib\n",
    "2. Caret\n",
    "3. Scikit-learn\n",
    "4. NumPy\n",
    "    "
   ]
  },
  {
   "cell_type": "markdown",
   "id": "f86d188f-3ec3-4026-8e58-2a4a32567969",
   "metadata": {},
   "source": [
    "| Data Science Tools | \n",
    "| -------------------|\n",
    "| Rstudio|\n",
    "| Apache Spark | \n",
    "| Apache Hadoop |"
   ]
  },
  {
   "cell_type": "markdown",
   "id": "6d1a4fa1-824d-4ebc-ba37-634d33778f18",
   "metadata": {},
   "source": [
    "### Below are a few examples of evaluating arithmetic expressions in Python"
   ]
  },
  {
   "cell_type": "code",
   "execution_count": 3,
   "id": "b9369df8-422d-4ffa-890a-bfc021b811d6",
   "metadata": {
    "tags": []
   },
   "outputs": [
    {
     "data": {
      "text/plain": [
       "17"
      ]
     },
     "execution_count": 3,
     "metadata": {},
     "output_type": "execute_result"
    }
   ],
   "source": [
    "# This a simple arithmetic expression to mutiply then add integers.\n",
    "(3*4)+5"
   ]
  },
  {
   "cell_type": "code",
   "execution_count": 4,
   "id": "8161c8d2-1302-4d89-a108-267416fd5c5a",
   "metadata": {
    "tags": []
   },
   "outputs": [
    {
     "data": {
      "text/plain": [
       "3.3333333333333335"
      ]
     },
     "execution_count": 4,
     "metadata": {},
     "output_type": "execute_result"
    }
   ],
   "source": [
    "# This will convert 200 minutes to hours by diving by 60\n",
    "200.0/60.0"
   ]
  },
  {
   "cell_type": "markdown",
   "id": "f3ae9752-8f14-4c30-a131-42ddbf992d2b",
   "metadata": {},
   "source": [
    "## Author\n",
    "Hamza Nadeem Rana"
   ]
  },
  {
   "cell_type": "code",
   "execution_count": null,
   "id": "f295e5e1-1beb-4c2f-bf0a-5a2dcd20ee54",
   "metadata": {},
   "outputs": [],
   "source": []
  }
 ],
 "metadata": {
  "kernelspec": {
   "display_name": "Python",
   "language": "python",
   "name": "conda-env-python-py"
  },
  "language_info": {
   "codemirror_mode": {
    "name": "ipython",
    "version": 3
   },
   "file_extension": ".py",
   "mimetype": "text/x-python",
   "name": "python",
   "nbconvert_exporter": "python",
   "pygments_lexer": "ipython3",
   "version": "3.7.12"
  }
 },
 "nbformat": 4,
 "nbformat_minor": 5
}
